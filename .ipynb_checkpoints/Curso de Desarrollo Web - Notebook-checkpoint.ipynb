{
 "cells": [
  {
   "cell_type": "markdown",
   "metadata": {
    "toc": true
   },
   "source": [
    "<h1>Tabla de Contenidos<span class=\"tocSkip\"></span></h1>\n",
    "<div class=\"toc\"><ul class=\"toc-item\"><li><span><a href=\"#Conceptos-Iniciales\" data-toc-modified-id=\"Conceptos-Iniciales-1\">Conceptos Iniciales</a></span></li></ul></div>"
   ]
  },
  {
   "cell_type": "markdown",
   "metadata": {},
   "source": [
    "# Conceptos Iniciales\n",
    "* **Clients (clientes)**: Son los dispositivos a través de los cuales accedemos a sitios web: un computador, desktop, teléfono, laptop, etc.\n",
    "* **Internet**: Es toda la red formada por servidores y clientes que proveen y consumen contenidos web y se comunican entre sí a nivel global.\n",
    "* **Server (servidor)**: Es un computador, ubicado en alguna parte de la red, qué está encendido todo el tiempo, en el que se alojan o almacenan sitios web y sus recursos y al cual se accede a través de nombres de dominio (.com, .net, .pet, etc.) También se le conoce como hosting.\n",
    "\n",
    "**Profesiones dentro del Desarrollo Web** :\n",
    "\n",
    "* **Frontend**: Son los encargados de cuidar toda la apariencia y experiencia del usuario. Su misión es pasar todo el diseño gráfico de un sitio o aplicación web, a código, y proveer toda la interactividad a los clientes. Esta rama se puede dividir en algunas especializaciones como: Arquitecto Frontend, Desarrollador JavaScript (frontend), etc.\n",
    "\n",
    "* **Backend**: Resguardan los datos y la seguridad de las aplicaciones y sitios web. Su misión es crear y mantener toda la parte del sitio web que sucede en los servidores. Pueden especializarse aun más en: SysAdmis, DevOps, Desarrollador JavaScript (backend), entre otros.\n",
    "\n",
    "Las 3 tecnologías básicas que debe de manejar un **Frontend** son:\n",
    "\n",
    "* **HTML**: Lenguaje de marcado para hacer websites.\n",
    "* **CSS**: Hojas de estilo cascadam el diseño hecho código.\n",
    "* **JavaScript**: Es el único lenguaje que funciona actualmente dentro de los navegadores de manera nativa.\n",
    "\n",
    "![Cliente-Servidor](https://i.imgur.com/BV4kU9h.png)\n",
    "\n",
    "---"
   ]
  },
  {
   "cell_type": "code",
   "execution_count": null,
   "metadata": {},
   "outputs": [],
   "source": []
  }
 ],
 "metadata": {
  "kernelspec": {
   "display_name": "Python 3",
   "language": "python",
   "name": "python3"
  },
  "language_info": {
   "codemirror_mode": {
    "name": "ipython",
    "version": 3
   },
   "file_extension": ".py",
   "mimetype": "text/x-python",
   "name": "python",
   "nbconvert_exporter": "python",
   "pygments_lexer": "ipython3",
   "version": "3.8.3"
  },
  "toc": {
   "base_numbering": 1,
   "nav_menu": {},
   "number_sections": false,
   "sideBar": true,
   "skip_h1_title": false,
   "title_cell": "Tabla de Contenidos",
   "title_sidebar": "Contents",
   "toc_cell": true,
   "toc_position": {
    "height": "calc(100% - 180px)",
    "left": "10px",
    "top": "150px",
    "width": "191.6px"
   },
   "toc_section_display": true,
   "toc_window_display": false
  }
 },
 "nbformat": 4,
 "nbformat_minor": 4
}
