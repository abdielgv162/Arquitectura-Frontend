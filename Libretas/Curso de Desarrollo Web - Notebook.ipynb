{
 "cells": [
  {
   "cell_type": "markdown",
   "metadata": {
    "toc": true
   },
   "source": [
    "<h1>Tabla de Contenidos<span class=\"tocSkip\"></span></h1>\n",
    "<div class=\"toc\"><ul class=\"toc-item\"><li><span><a href=\"#Curso-de-Desarrollo-Web\" data-toc-modified-id=\"Curso-de-Desarrollo-Web-1\">Curso de Desarrollo Web</a></span><ul class=\"toc-item\"><li><span><a href=\"#Conceptos-Iniciales\" data-toc-modified-id=\"Conceptos-Iniciales-1.1\">Conceptos Iniciales</a></span><ul class=\"toc-item\"><li><span><a href=\"#Profesiones-dentro-del-Desarrollo-Web\" data-toc-modified-id=\"Profesiones-dentro-del-Desarrollo-Web-1.1.1\">Profesiones dentro del Desarrollo Web</a></span></li><li><span><a href=\"#Tecnologías\" data-toc-modified-id=\"Tecnologías-1.1.2\">Tecnologías</a></span></li></ul></li><li><span><a href=\"#HTML\" data-toc-modified-id=\"HTML-1.2\">HTML</a></span><ul class=\"toc-item\"><li><span><a href=\"#DOM\" data-toc-modified-id=\"DOM-1.2.1\">DOM</a></span></li><li><span><a href=\"#Etiquetas-HTML\" data-toc-modified-id=\"Etiquetas-HTML-1.2.2\">Etiquetas HTML</a></span></li><li><span><a href=\"#Estructura-básica-de-un-Sitio-Web\" data-toc-modified-id=\"Estructura-básica-de-un-Sitio-Web-1.2.3\">Estructura básica de un Sitio Web</a></span><ul class=\"toc-item\"><li><span><a href=\"#Ejemplo-1:\" data-toc-modified-id=\"Ejemplo-1:-1.2.3.1\">Ejemplo 1:</a></span></li></ul></li><li><span><a href=\"#Continuando-la-estructura-del-Sitio-Web\" data-toc-modified-id=\"Continuando-la-estructura-del-Sitio-Web-1.2.4\">Continuando la estructura del Sitio Web</a></span><ul class=\"toc-item\"><li><span><a href=\"#Ejemplo-2:\" data-toc-modified-id=\"Ejemplo-2:-1.2.4.1\">Ejemplo 2:</a></span></li></ul></li><li><span><a href=\"#Atributos-HTML\" data-toc-modified-id=\"Atributos-HTML-1.2.5\">Atributos HTML</a></span><ul class=\"toc-item\"><li><span><a href=\"#Ejemplo-3\" data-toc-modified-id=\"Ejemplo-3-1.2.5.1\">Ejemplo 3</a></span></li></ul></li><li><span><a href=\"#Formularios-HTML\" data-toc-modified-id=\"Formularios-HTML-1.2.6\">Formularios HTML</a></span></li><li><span><a href=\"#Formas-de-agregar-estilos-a-HTML\" data-toc-modified-id=\"Formas-de-agregar-estilos-a-HTML-1.2.7\">Formas de agregar estilos a HTML</a></span></li><li><span><a href=\"#Reglas,-selectores,-declaraciones,-propiedades-y-valores-de-CSS\" data-toc-modified-id=\"Reglas,-selectores,-declaraciones,-propiedades-y-valores-de-CSS-1.2.8\">Reglas, selectores, declaraciones, propiedades y valores de CSS</a></span><ul class=\"toc-item\"><li><span><a href=\"#Ejemplo-4:-Agregando-clases-a-los-componentes-del-HTML\" data-toc-modified-id=\"Ejemplo-4:-Agregando-clases-a-los-componentes-del-HTML-1.2.8.1\">Ejemplo 4: Agregando clases a los componentes del HTML</a></span></li></ul></li></ul></li><li><span><a href=\"#CSS\" data-toc-modified-id=\"CSS-1.3\">CSS</a></span></li></ul></li></ul></div>"
   ]
  },
  {
   "cell_type": "markdown",
   "metadata": {},
   "source": [
    "# Curso de Desarrollo Web \n",
    "\n",
    "---"
   ]
  },
  {
   "cell_type": "markdown",
   "metadata": {},
   "source": [
    "## Conceptos Iniciales"
   ]
  },
  {
   "cell_type": "markdown",
   "metadata": {},
   "source": [
    "\n",
    "* **Clients (clientes)**: Son los dispositivos a través de los cuales accedemos a sitios web: un computador, desktop, teléfono, laptop, etc.\n",
    "* **Internet**: Es toda la red formada por servidores y clientes que proveen y consumen contenidos web y se comunican entre sí a nivel global.\n",
    "* **Server (servidor)**: Es un computador, ubicado en alguna parte de la red, qué está encendido todo el tiempo, en el que se alojan o almacenan sitios web y sus recursos y al cual se accede a través de nombres de dominio (.com, .net, .pet, etc.) También se le conoce como hosting.\n",
    "\n",
    "\n"
   ]
  },
  {
   "cell_type": "markdown",
   "metadata": {},
   "source": [
    "### Profesiones dentro del Desarrollo Web \n",
    "\n",
    "* **Frontend**: Son los encargados de cuidar toda la apariencia y experiencia del usuario. Su misión es pasar todo el diseño gráfico de un sitio o aplicación web, a código, y proveer toda la interactividad a los clientes. Esta rama se puede dividir en algunas especializaciones como: Arquitecto Frontend, Desarrollador JavaScript (frontend), etc.\n",
    "\n",
    "* **Backend**: Resguardan los datos y la seguridad de las aplicaciones y sitios web. Su misión es crear y mantener toda la parte del sitio web que sucede en los servidores. Pueden especializarse aun más en: SysAdmis, DevOps, Desarrollador JavaScript (backend), entre otros.\n",
    "\n"
   ]
  },
  {
   "cell_type": "markdown",
   "metadata": {},
   "source": [
    "### Tecnologías\n",
    "Las 3 tecnologías básicas que debe de manejar un **Frontend** son:\n",
    "\n",
    "* **HTML**: Lenguaje de marcado para hacer websites.\n",
    "* **CSS**: Hojas de estilo cascada, se encarga de crear el diseño hecho código.\n",
    "* **JavaScript**: Es el único lenguaje que funciona actualmente dentro de los navegadores de manera nativa.\n",
    "\n",
    "![Cliente-Servidor](https://i.imgur.com/MJJDOwd.png)\n",
    "\n",
    "---"
   ]
  },
  {
   "cell_type": "markdown",
   "metadata": {},
   "source": [
    "## HTML \n"
   ]
  },
  {
   "cell_type": "markdown",
   "metadata": {},
   "source": [
    "### DOM "
   ]
  },
  {
   "cell_type": "markdown",
   "metadata": {},
   "source": [
    "\n",
    "\n",
    "DOM por sus siglas de Document Object Model, es una interfaz de platadorma que proporciona un conjunto estándar de objetos para representar documentos HTML, XHTML y XML, un modelo estándar sobre como pueden combinarse dichos objetos y una interfaz estándar para acceder a ellos y manipularlos. \n",
    "\n",
    "A través de DOM, los programas pueden acceder y modificar contenido, estructura y estilo de los documentos HTML y XML.\n",
    "\n",
    "Otra definición sería, \"Modelo de documento que se carga en el navegador web y que representa el documento como un árbol de nodos\".\n",
    "\n",
    "![](https://i.imgur.com/xvCFjJA.png)\n",
    "\n"
   ]
  },
  {
   "cell_type": "markdown",
   "metadata": {},
   "source": [
    "### Etiquetas HTML"
   ]
  },
  {
   "cell_type": "markdown",
   "metadata": {},
   "source": [
    "\n",
    "\n",
    "Una etiqueta es usada para crear contenido. Así como enlaces a otros sitios web, texto, imágenes, etc.\n",
    "\n",
    "La sintaxis es de la siguiente forma: \n",
    "\n",
    "`<nombreDeEtiqueta> Contenido </nombreDeEtiqueta>`\n",
    "\n",
    "Hay excepciones, en algunas etiquetas se cierra en sí mismas como es en el caso de\n",
    "\n",
    "`<img src = \"imagen.jpg\"/>`, donde `src` es el atributo de la etiqueta.\n",
    "\n",
    "Podemos consultar todas las etiquetas en una página que las representa de una forma visual muy interesante en [Allthetags.com](https://allthetags.com/) y en [mclibre.org](https://www.mclibre.org/consultar/htmlcss/html/html-etiquetas.html).\n"
   ]
  },
  {
   "cell_type": "markdown",
   "metadata": {},
   "source": [
    "### Estructura básica de un Sitio Web\n"
   ]
  },
  {
   "cell_type": "markdown",
   "metadata": {},
   "source": [
    "\n",
    "Al escribir nuestra estructura de HTML lo primero que tendremos que hacer es definir el tipo de documento estamos creando y para ello tenemos la etiqueta `<!DOCTYPE html>` y esta no se tiene que cerrar.\n",
    "\n",
    "Después, usamos la etiqueta `<html></html>` para indicar que dentro de esta estará todo el contenido de nuestro HTML. Dentro de esta etiqueta tendremos las etiquetas principales `<head></head>`, que delimita el encabezado del documento; y `<body></body>`, que delimita el cuerpo del documento.\n",
    "\n",
    "Dentro de `<head></head>` tendremos etiquetas como `<title></title>` que define el titulo que aparece en nuestra página al abrirla en el navegador.\n",
    "\n",
    "Dentro del `body` tendremos una etiqueta `<header></header>` donde editaremos la cabecera de nuestra página. Dentro de este `header` podemos crear un menú de navegación con la etiqueta `<nav></nav>`, aquí podremos crear cosas como listas por ejemplo, con la etiqueta `<ol></ol>` podemos hacer listas ordenadas y con `<ul></ul>` podemos crear listas desordenadas. Y cada uno de los items o anclas de estas listas los crearemos con la etiqueta `<a></a>`.\n",
    "\n",
    "\n",
    "Dentro del `body` y fuera del `header`, podremos crear nuestras secciones dentro de la página. Cada una estas secciones las creamos con la etiqueta `<section>Nombre de la sección</section>` y tenemos una etiqueta especial para hacer el footer o pie de página llamada `<footer></footer>`. \n"
   ]
  },
  {
   "cell_type": "markdown",
   "metadata": {
    "heading_collapsed": true
   },
   "source": [
    "#### Ejemplo 1:"
   ]
  },
  {
   "cell_type": "markdown",
   "metadata": {
    "hidden": true
   },
   "source": [
    "##### Estructura básica.\n",
    "```HTML\n",
    "<!DOCTYPE html> <!-- Definimos el tipo de documento -->\n",
    "<html> <!-- Etiqueta principal -->\n",
    "    <head>\n",
    "        <title><!-- Titulo que aparece en el navegador -->\n",
    "            Portafolio Abdiel Guerrero\n",
    "        </title>\n",
    "    </head>\n",
    "    <body> <!-- Cuerpo del documento -->  \n",
    "        <header> <!-- Cabecera -->\n",
    "            <nav> <!-- Navegador interno -->\n",
    "                <ol>Listas Ordenadas\n",
    "                    <li>\n",
    "                        <a>Item 1</a> <!-- Anclas -->\n",
    "                    </li>\n",
    "                    <li>\n",
    "                        <a>Item 2</a>\n",
    "                    </li>\n",
    "                    <li>\n",
    "                        <a>Item 3</a>\n",
    "                    </li>\n",
    "                </ol>\n",
    "                <ul>Listas Desordenadas\n",
    "                    <li>\n",
    "                        <a>Item 1</a>\n",
    "                    </li>\n",
    "                    <li>\n",
    "                        <a>Item 2</a>\n",
    "                    </li>\n",
    "                    <li>\n",
    "                        <a>Item 3</a>\n",
    "                    </li>\n",
    "                </ul>\n",
    "            </nav>\n",
    "        </header>\n",
    "        <section>Seccion Principal</section> <!-- Secciones -->\n",
    "        <section>Seccion Secundaria</section>\n",
    "        <section>Seccion n</section>\n",
    "        <footer>footer</footer> <!-- Pie de página -->\n",
    "    </body>\n",
    "</html>\n",
    "```\n",
    "\n",
    "---"
   ]
  },
  {
   "cell_type": "markdown",
   "metadata": {},
   "source": [
    "### Continuando la estructura del Sitio Web"
   ]
  },
  {
   "cell_type": "markdown",
   "metadata": {},
   "source": [
    "\n",
    "\n",
    "Ahora modifiquemos un poco nuestro documento anterior. Comenzaremos añadiendo algunas cosas a nuestras secciones, por ejemplo, con un titulo usando las etiquetas `<h1><h2>...<h6>` donde `<h1></h1>` es el mensaje de mayor tamaño y `<h6></h6>` el más pequeño.\n",
    "\n",
    "En caso de querer ejecutar un salto de linea podemos utilizar la etiqueta `<br/>` que se cierra en si misma. En caso de querer destacar una parte especial del mensaje podemos usar la etiqueta `<strong></strong>` que despliega el mensaje en negritas.\n",
    "\n",
    "En el caso de querer colocar una imagen vamos a utilizar la etiqueta `<img>`.\n",
    "\n",
    "Cuando queramos representar una composición auto-contenida en un documento haremos uso de la etiqueta `<article></article>`.\n",
    "\n",
    "Utilizaremos la etiqueta `<p></p>` para crear párrafos dentro de nuestros documentos y con `<small></small>` podemos hacer más pequeño el texto.\n",
    "\n",
    "Recordemos que podemos dividir una etiqueta `<section>` utilizando la etiqueta `<article>` que nos permitirá crear una sub sección dentro del documento, también en caso de querer colocar una imagen podemos colocar  nuestra imagen (`<img/>`) dentro de un un `<figure>` para delimitar esa sección para la imagen y poner por ejemplo, un pie de imagen o descripciones de la misma."
   ]
  },
  {
   "cell_type": "markdown",
   "metadata": {
    "heading_collapsed": true
   },
   "source": [
    "#### Ejemplo 2:"
   ]
  },
  {
   "cell_type": "markdown",
   "metadata": {
    "heading_collapsed": true,
    "hidden": true
   },
   "source": [
    "##### Realizando modificaciones en las secciones\n",
    "\n",
    "```HTML\n",
    "<!DOCTYPE html> \n",
    "<html>\n",
    "    <head>\n",
    "        <title>\n",
    "            Portafolio Abdiel Guerrero\n",
    "        </title>\n",
    "    </head>\n",
    "    <body>\n",
    "        <header>\n",
    "            <nav>\n",
    "                <ol>Listas Ordenadas\n",
    "                    <li>\n",
    "                        <a>Item 1</a>\n",
    "                    </li>\n",
    "                    <li>\n",
    "                        <a>Item 2</a>\n",
    "                    </li>\n",
    "                    <li>\n",
    "                        <a>Item 3</a>\n",
    "                    </li>\n",
    "                </ol>\n",
    "                <ul>Listas Desordenadas\n",
    "                    <li>\n",
    "                        <a>Item 1</a>\n",
    "                    </li>\n",
    "                    <li>\n",
    "                        <a>Item 2</a>\n",
    "                    </li>\n",
    "                    <li>\n",
    "                        <a>Item 3</a>\n",
    "                    </li>\n",
    "                </ul>\n",
    "            </nav>        \n",
    "        </header>\n",
    "        <section>\n",
    "            <h1>Hola! este es un <strong>portafolio de proyectos</strong> para mantener un historial. <br/>\n",
    "            Mensaje desplegado con un salto de linea, con una parte <strong>marcada con strong</strong>.\n",
    "            </h1>\n",
    "            <img>imagen de portada\n",
    "        </section>\n",
    "\n",
    "        <section>\n",
    "            <h2>Portafolio (Proyectos Destacados)</h2>\n",
    "            <article>\n",
    "                <h3>Proyecto 1</h3>\n",
    "                <h6>Tecnologías utilizadas</h6>\n",
    "                <p><small><strong>Fecha:</strong> xx/xx/21</small> </p>\n",
    "                <p><small><strong>Puedes verlo en:</strong> dirección</small> </p>\n",
    "                <p>Descripción del proyecto</p>\n",
    "            </article>\n",
    "        </section>\n",
    "\n",
    "        <section>\n",
    "            <h2>Mas información</h2>\n",
    "            <article>   \n",
    "                <figure>    \n",
    "                    <img/>\n",
    "                </figure>\n",
    "                <h3>Pie de imagen</h3>\n",
    "                <p>Descripción</p>\n",
    "                <a>Enlace</a>\n",
    "            </article>\n",
    "        </section>\n",
    "        <section>Sección Contactos</section>\n",
    "        <footer>footer</footer>\n",
    "    </body>\n",
    "</html>\n",
    "```"
   ]
  },
  {
   "cell_type": "markdown",
   "metadata": {},
   "source": [
    "### Atributos HTML"
   ]
  },
  {
   "cell_type": "markdown",
   "metadata": {},
   "source": [
    "\n",
    "\n",
    "Los atributos son valores agregados a las etiquetas (tags) html que extienden su habilidad o funcionalidad con información específica.\n",
    "\n",
    "A continuación, un ejemplo de los atributos más comunes y usados en algunas etiquetas:\n",
    "\n",
    "Para `img`:\n",
    "* SRC: Específica la ruta de la imagen que será mostrada a través de esta etiqueta. La ruta puede ser absoluta (cuando especifica una dirección exacta, incluyendo el prefijo *http(s)*), o relativa (cuando la referencia a la ubicación de la imagen parte de la ubicación dentro de un dispositivo como en nuestro disco duro).\n",
    "\n",
    "* ALT: Indica un texto alternativo que será mostrado en lugar de la imagen cuando está no pueda ser mostrada o no logre cargar.\n",
    "\n",
    "* WIDTH: Ancho de la imagen en pixeles.\n",
    "\n",
    "* HEIGHT: Alto de la imagen en pixeles.\n",
    "\n",
    "Para `link`, en la cabecera *head* del documento:\n",
    "\n",
    "* REL: Indica la relación del recurso con el contenido.\n",
    "\n",
    "* TYPE: Indica el tipo de recurso/formato.\n",
    "\n",
    "* HREF: Indica la ubicación (url) del recurso enlazado.\n",
    "\n",
    "Para `meta`, también en la cabecera *head* del documento:\n",
    "\n",
    "* CHARSET: Indica la tabla de caracteres (utf-8 para caracteres latinos) usada en el documento.\n",
    "\n",
    "Para `a`:\n",
    "\n",
    "* HREF: La ubicación o ruta a la que enlaza esta etiqueta de ancla. En el caso de querer enlazar a elementos que se encuentran dentro del mismo documento, este atributo debe indicar el valor del atributo \"id\" de ese elemento destino del enlace.\n"
   ]
  },
  {
   "cell_type": "markdown",
   "metadata": {
    "heading_collapsed": true
   },
   "source": [
    "#### Ejemplo 3"
   ]
  },
  {
   "cell_type": "markdown",
   "metadata": {
    "hidden": true
   },
   "source": [
    "```HTML\n",
    "<!DOCTYPE html> \n",
    "<html lang=\"es\">\n",
    "    <head>\n",
    "        <meta charset=\"UTF-8\" />\n",
    "        <title>\n",
    "            Portafolio Abdiel Guerrero\n",
    "        </title>\n",
    "        <link rel=\"icon\" type=\"image/png\" href=\"../DesarrolloWeb/Imagenes/ICON/FAVICON2/favicon-32x32.png\" />\n",
    "    </head>\n",
    "    <body>\n",
    "        <header>\n",
    "            <div>\n",
    "                <figure>\n",
    "                    <img src = \"../DesarrolloWeb/Imagenes/LOGO/Free_Sample_By_Wix.jpg\" alt=\"Texto Alternativo para nuestro logo http://dasdasd.com\" />\n",
    "                </figure>\n",
    "                <nav>\n",
    "                    <ol>Listas Ordenadas\n",
    "                        <li>\n",
    "                            <a href=\"https://github.com/abdielgv162\">GitHub</a>\n",
    "                        </li>\n",
    "                        <li>\n",
    "                            <a href=\"#\">Item 2</a>\n",
    "                        </li>\n",
    "                        <li>\n",
    "                            <a href=\"#\">Item 3</a>\n",
    "                        </li>\n",
    "                    </ol>\n",
    "                    <ul>Listas Desordenadas\n",
    "                        <li>\n",
    "                            <a>Item 1</a>\n",
    "                        </li>\n",
    "                        <li>\n",
    "                            <a>Item 2</a>\n",
    "                        </li>\n",
    "                        <li>\n",
    "                            <a>Item 3</a>\n",
    "                        </li>\n",
    "                    </ul>\n",
    "                </nav>   \n",
    "            </div>\n",
    "        </header>\n",
    "        <section>\n",
    "            <h1>Hola! este es un <strong>portafolio de proyectos</strong> para mantener un historial. <br/>\n",
    "            Mensaje desplegado con un salto de linea, con una parte <strong>marcada con strong</strong>.\n",
    "            </h1>\n",
    "            <img src=\"https://encrypted-tbn0.gstatic.com/images?q=tbn:ANd9GcSG4BOeN4ZpmSh66IYC53WtvouOcqE3tbqs_g&usqp=CAU\" alt='imagen de fondo'>\n",
    "        </section>\n",
    "\n",
    "        <section>\n",
    "            <h2>Portafolio (Proyectos Destacados)</h2>\n",
    "            <article>\n",
    "                <h3>Proyecto 1</h3>\n",
    "                <h6>Tecnologías utilizadas</h6>\n",
    "                <p><small><strong>Fecha:</strong> xx/xx/21</small> </p>\n",
    "                <p><small><strong>Puedes verlo en:</strong> dirección</small> </p>\n",
    "                <p>Descripción del proyecto</p>\n",
    "            <img src=\"../DesarrolloWeb/Imagenes/desarrollo-web-portafolio-9af19a0a0fcd9fb6a66c3831cca6aaebf3328762/images/items.png\" alt=\"secciones\">\n",
    "            </article>\n",
    "        </section>\n",
    "\n",
    "        <section>\n",
    "            <h2>Mas información</h2>\n",
    "            <article>   \n",
    "                <figure>    \n",
    "                    <img/>\n",
    "                </figure>\n",
    "                <h3>Pie de imagen</h3>\n",
    "                <p>Descripción</p>\n",
    "                <a>Enlace</a>\n",
    "            </article>\n",
    "        </section>\n",
    "        <section>Sección Contactos</section>\n",
    "        <footer>footer</footer>\n",
    "    </body>\n",
    "</html>\n",
    "```"
   ]
  },
  {
   "cell_type": "markdown",
   "metadata": {},
   "source": [
    "### Formularios HTML\n"
   ]
  },
  {
   "cell_type": "markdown",
   "metadata": {},
   "source": [
    "Los formularios en html son unidades de información que nos permiten recolectar información para enviarlos al propietarios del website o a un servicio externo. Esta formado por dos partes o contextos: una parte donde se hace el ingreso y modelación de esos datos (en el frontend), y otra parte que se encarga de enviar, procesar y almacenar esos datos (en el backend).\n",
    "\n",
    "Los formularios se crean con la etiqueta `form`. El atributo principal de un formulario es `action`, ya que contiene la ruta a la que serán enviados los datos recolectados.\n",
    "\n",
    "Hay diversos elementos html que permiten la captura o recolección de datos, aunque generalmente se usan los elementos creados con la etiqueta `input`. Los inputs también sirven para crear botones, aunque existe una etiqueta especial para ésto llamada `button`. El atributo principal de los inputs es `type`, que indica el tipo de comportamiento o dato que se espera escribir.\n",
    "\n",
    "Los elementos creados con la etiqueta `label` muestran un texto que se puede asociar con un input para darle mayor significado al campo, principalmente cuando no se usa el atributo `placeholder`."
   ]
  },
  {
   "cell_type": "markdown",
   "metadata": {},
   "source": [
    "### Formas de agregar estilos a HTML"
   ]
  },
  {
   "cell_type": "markdown",
   "metadata": {},
   "source": [
    "Hay 3 opciones para incluir estilos que definan la apariencia de nuestro HTML:\n",
    "\n",
    "* **Estilos en línea:** Se definen directamente en el elemento html que quieres utilizar, se agregan con el atributo `style`. \n",
    "\n",
    "* **Estilos con el tag Style:** Regularmente este tag se incluye dentro de la etiqueta `head` del html.\n",
    "\n",
    "* **Estilo enlazados desde un archivo css externo:** Utilizando la etiqueta `link` que nos permite enlazar recursos externos.\n",
    "\n",
    "A **CSS**, se le llama **hojas de estilos en cascada** porque los estilos que se definen para una página, se van aplicando de arriba hacia abajo, y de lo más general a lo más particular, teniendo prioridad lo más particular. Esto es, los estilos que prevalecen son los que han sido definidos en **línea**, luego los que fueron definidos mediante la etiqueta `style` en la cabeza o cuerpo del html, y por ultimo los estilos definidos en archivos externos enlazados con la etiqueta `link`. Esta prioridad se puede alterar al usar el modificador `**!important**` en la definición de algún estilo en particular, aunque no es una buena practica."
   ]
  },
  {
   "cell_type": "markdown",
   "metadata": {},
   "source": [
    "### Reglas, selectores, declaraciones, propiedades y valores de CSS\n"
   ]
  },
  {
   "cell_type": "markdown",
   "metadata": {},
   "source": [
    "Pongamos de ejemplo la siguiente instrucción de CSS"
   ]
  },
  {
   "cell_type": "markdown",
   "metadata": {},
   "source": [
    "```css\n",
    "header {\n",
    "    background: pink;\n",
    "}\n",
    "```"
   ]
  },
  {
   "cell_type": "markdown",
   "metadata": {},
   "source": [
    "Aquí tenemos una instrucción sencilla que se encarga de pintar el fondo de nuestro header de color rosa. Revisemos las partes de las cuales se conforma este.\n",
    "\n",
    "Primero tenemos que toda la instrucción en su conjunto conforma una **regla** la cual se divide en:\n",
    "\n",
    "* **Selectores:** Es simplemente el elemento que está conectado a un estilo particular, en este caso seleccionamos el header. Dentro de los selectores tenemos 3 tipos:\n",
    "\n",
    "  * **Selectores de etiquetas:** Es decir, que basta con que le indiquemos el nombre de una etiqueta HTML a la que le queremos aplicar el estilo, como fue en el caso de `header`.\n",
    "  \n",
    "      ```css\n",
    "        header {\n",
    "   \n",
    "                }\n",
    "       ```\n",
    "    \n",
    "  * **Selector descendente:** Este se encarga de seleccionar los tags \"hijos\" de tags de nivel superior, por ejemplo, con los tags `<a>` que que serían tags \"hijos\" de `<ol>`. Un ejemplo de un selector de este estilo sería el siguiente.\n",
    "    \n",
    "    ```CSS\n",
    "        body header div nav ol li a{\n",
    "        }\n",
    "    ```\n",
    "    Ya que esta pasando por toda la jerarquía para llegar al elemento deseado.\n",
    "    \n",
    "  * **Selector de clase:** Primero recordemos que una clase es un atributo de HTM usando el atributo `calss=\"link\"` de esta forma muchos elementos pueden recibir el mismo estilo si comparten el mismo link, a diferencia de un `id` donde cada elemento tiene un nombre único.\n",
    "      ```css\n",
    "          .nombreDeClase{\n",
    "    \n",
    "            }\n",
    "      ```\n",
    "      \n",
    "       ```css\n",
    "          #NombreDelID{\n",
    "    \n",
    "            }\n",
    "      ```\n",
    "      \n",
    "* **Declaradores:** Es la parte que engloba toda la instrucción que se va a ejecutar en dicha sección previamente seleccionada.\n",
    "\n",
    "* **Propiedades:** Estas se asignan con el fin de manipular su estilo, incluyendo propiedades como el color, margen, fuente de letra, entre otras.\n",
    "\n",
    "* **Valores:** Es la asignación que recibe la propiedad. Por ejemplo, la propiedad color podría recibir el valor *red*.\n",
    "\n"
   ]
  },
  {
   "cell_type": "markdown",
   "metadata": {
    "heading_collapsed": true
   },
   "source": [
    "####  Ejemplo 4: Agregando clases a los componentes del HTML"
   ]
  },
  {
   "cell_type": "markdown",
   "metadata": {
    "hidden": true
   },
   "source": [
    "```HTML\n",
    "<!DOCTYPE html> \n",
    "<html lang=\"es\">\n",
    "    <head>\n",
    "        <meta charset=\"UTF-8\" />\n",
    "        <title>\n",
    "            Portafolio Abdiel Guerrero\n",
    "        </title>\n",
    "        <link rel=\"stylesheet\" href=\"CSS/estilos.css\">\n",
    "        <link rel=\"icon\" type=\"image/png\" href=\"../DesarrolloWeb/Imagenes/ICON/FAVICON2/favicon-32x32.png\" />\n",
    "    </head>\n",
    "    <body>\n",
    "\n",
    "        <header class=\"header\">\n",
    "            <div>\n",
    "                <figure class=\"logo\">\n",
    "                    <img src = \"../DesarrolloWeb/Imagenes/LOGO/Free_Sample_By_Wix.jpg\" alt=\"Texto Alternativo para nuestro logo http://dasdasd.com\" />\n",
    "                </figure>\n",
    "                <nav class=\"menu\">\n",
    "                    <ol>Listas Ordenadas\n",
    "                        <li>\n",
    "                            <a class=\"link\" href=\"./Portafolio/index.html\">Portafolio</a>\n",
    "                        </li>\n",
    "                        <li>\n",
    "                            <a class=\"link\"  href=\"#Info\">Más información</a>\n",
    "                        </li>\n",
    "                        <li>\n",
    "                            <a class=\"link\"  href=\"#Contacto\">Contacto</a>\n",
    "                        </li>\n",
    "                    </ol>\n",
    "                    <ul>Listas Desordenadas\n",
    "                        <li>\n",
    "                            <a href=\"https://github.com/abdielgv162\" target=\"_blank\">GitHub</a>\n",
    "                        </li>\n",
    "                        <li>\n",
    "                            <a>Item 2</a>\n",
    "                        </li>\n",
    "                        <li>\n",
    "                            <a>Item 3</a>\n",
    "                        </li>\n",
    "                    </ul>\n",
    "                </nav>   \n",
    "            </div>\n",
    "        </header>\n",
    "\n",
    "        <section class=\"hero\">\n",
    "            <h1>Hola! este es un <strong>portafolio de proyectos</strong> para mantener un historial. <br/>\n",
    "            Mensaje desplegado con un salto de linea, con una parte <strong>marcada con strong</strong>.\n",
    "            </h1>\n",
    "            <img src=\"https://encrypted-tbn0.gstatic.com/images?q=tbn:ANd9GcSG4BOeN4ZpmSh66IYC53WtvouOcqE3tbqs_g&usqp=CAU\" alt='imagen de fondo'>\n",
    "        </section>\n",
    "\n",
    "        <section id=\"portafolio\" class=\"portfolio\">\n",
    "            <h2>Portafolio (Proyectos Destacados)</h2>\n",
    "            <article class=\"project\" >\n",
    "                <h3 class=\"project-title\">Proyecto 1</h3>\n",
    "                <h6 class=\"project-subtitle\">Tecnologías utilizadas</h6>\n",
    "                <p class=\"project-date\"><small><strong>Fecha:</strong> xx/xx/21</small> </p>\n",
    "                <p class=\"project-url\"><small><strong>Puedes verlo en:</strong> dirección</small> </p>\n",
    "                <p class=\"project-description\">Descripción del proyecto</p>\n",
    "                <figure class=\"project-imageContainer\">\n",
    "                    <img class=\"project-image\" src=\"../DesarrolloWeb/Imagenes/desarrollo-web-portafolio-9af19a0a0fcd9fb6a66c3831cca6aaebf3328762/images/items.png\"\n",
    "                        alt=\"secciones\">\n",
    "                </figure>\n",
    "            </article>\n",
    "        </section>\n",
    "\n",
    "        <section id=\"Info\">\n",
    "            <h2>Mas información</h2>\n",
    "            <article  class=\"information\">   \n",
    "                <figure class=\"information-imageContainter\">    \n",
    "                    <img class=\"information-image\" src=\"https://miro.medium.com/max/648/1*DcL9vLM9m-OPxXobLG-0Fg.jpeg\" alt=\"imagenJulia\">\n",
    "                </figure>\n",
    "                <h3 class=\"information-title\">Pie de imagen</h3>\n",
    "                <p class=\"information-description\">Descripción</p>\n",
    "                <a class=\"information-url\">Enlace</a>\n",
    "            </article>\n",
    "        </section>\n",
    "\n",
    "        <section id=\"Contacto\" class=\"contact\">\n",
    "            <form action=\"/suscripcion/\" class=\"contact-email\">\n",
    "                <h3 class=\"contact-title\">Contacto</h3>\n",
    "                <input type=\"text\" placeholder=\"Deja tu e-mail aqui\" id=\"email\">\n",
    "                <input type=\"submit\" value=\"Enviar\">\n",
    "                <button>Enviar</button>\n",
    "            </form>\n",
    "        </section>\n",
    "\n",
    "        <footer>footer</footer>\n",
    "    </body>\n",
    "</html>\n",
    "```"
   ]
  },
  {
   "cell_type": "markdown",
   "metadata": {},
   "source": [
    "## CSS"
   ]
  },
  {
   "cell_type": "code",
   "execution_count": null,
   "metadata": {},
   "outputs": [],
   "source": []
  },
  {
   "cell_type": "code",
   "execution_count": null,
   "metadata": {},
   "outputs": [],
   "source": []
  }
 ],
 "metadata": {
  "kernelspec": {
   "display_name": "Python 3",
   "language": "python",
   "name": "python3"
  },
  "language_info": {
   "codemirror_mode": {
    "name": "ipython",
    "version": 3
   },
   "file_extension": ".py",
   "mimetype": "text/x-python",
   "name": "python",
   "nbconvert_exporter": "python",
   "pygments_lexer": "ipython3",
   "version": "3.8.3"
  },
  "toc": {
   "base_numbering": 1,
   "nav_menu": {},
   "number_sections": false,
   "sideBar": true,
   "skip_h1_title": false,
   "title_cell": "Tabla de Contenidos",
   "title_sidebar": "Contents",
   "toc_cell": true,
   "toc_position": {
    "height": "calc(100% - 180px)",
    "left": "10px",
    "top": "150px",
    "width": "191.6px"
   },
   "toc_section_display": true,
   "toc_window_display": false
  }
 },
 "nbformat": 4,
 "nbformat_minor": 4
}
